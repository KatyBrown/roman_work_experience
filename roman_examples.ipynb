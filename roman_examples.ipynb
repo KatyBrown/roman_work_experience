{
  "nbformat": 4,
  "nbformat_minor": 0,
  "metadata": {
    "colab": {
      "provenance": [],
      "authorship_tag": "ABX9TyMpWSySo06auZDMV85LugsY",
      "include_colab_link": true
    },
    "kernelspec": {
      "name": "python3",
      "display_name": "Python 3"
    },
    "language_info": {
      "name": "python"
    }
  },
  "cells": [
    {
      "cell_type": "markdown",
      "metadata": {
        "id": "view-in-github",
        "colab_type": "text"
      },
      "source": [
        "<a href=\"https://colab.research.google.com/github/KatyBrown/roman_work_experience/blob/main/roman_examples.ipynb\" target=\"_parent\"><img src=\"https://colab.research.google.com/assets/colab-badge.svg\" alt=\"Open In Colab\"/></a>"
      ]
    },
    {
      "cell_type": "markdown",
      "source": [
        "### Setup"
      ],
      "metadata": {
        "id": "221QHMYZrnMu"
      }
    },
    {
      "cell_type": "markdown",
      "source": [
        "Install CIAlign and clone the Git repository with the example data"
      ],
      "metadata": {
        "id": "OuKI2QYKrYje"
      }
    },
    {
      "cell_type": "code",
      "execution_count": null,
      "metadata": {
        "id": "Rd4Cp7Qqp_S9"
      },
      "outputs": [],
      "source": [
        "%pip install CIAlign"
      ]
    },
    {
      "cell_type": "code",
      "source": [
        "!git clone https://github.com/KatyBrown/roman_work_experience.git"
      ],
      "metadata": {
        "id": "WV-uNCadqLZB"
      },
      "execution_count": null,
      "outputs": []
    },
    {
      "cell_type": "markdown",
      "source": [
        "Import the module files"
      ],
      "metadata": {
        "id": "VYF-C9cFrIsl"
      }
    },
    {
      "cell_type": "code",
      "source": [
        "import CIAlign.utilityFunctions as utilityFunctions\n",
        "import numpy as np\n",
        "\n",
        "import matplotlib.pyplot as plt\n",
        "%matplotlib inline"
      ],
      "metadata": {
        "id": "1MUOx9hPqeDf"
      },
      "execution_count": 49,
      "outputs": []
    },
    {
      "cell_type": "markdown",
      "source": [
        "### Read Files"
      ],
      "metadata": {
        "id": "QxLJUp6hrqCP"
      }
    },
    {
      "cell_type": "markdown",
      "source": [
        "Set the working directory\n"
      ],
      "metadata": {
        "id": "zMDIM3bmrKrZ"
      }
    },
    {
      "cell_type": "code",
      "source": [
        "mydir = 'roman_work_experience'"
      ],
      "metadata": {
        "id": "VSZYjDqhqzDg"
      },
      "execution_count": 7,
      "outputs": []
    },
    {
      "cell_type": "markdown",
      "source": [
        "Read the sequence alignment into an array and sequence names into a list\n"
      ],
      "metadata": {
        "id": "zp2oqG5PrN6O"
      }
    },
    {
      "cell_type": "code",
      "source": [
        "arr, nams = utilityFunctions.FastaToArray(\n",
        "    \"%s/small/small_alignment.fasta\" % mydir)"
      ],
      "metadata": {
        "id": "aWBjSslxq1Tn"
      },
      "execution_count": 8,
      "outputs": []
    },
    {
      "cell_type": "markdown",
      "source": [
        "Read the consensus sequence and convert it to a list, then an array\n"
      ],
      "metadata": {
        "id": "0VU7b8oerbV3"
      }
    },
    {
      "cell_type": "code",
      "source": [
        "file_contents = open(\"%s/small/small_consensus.fasta\" % mydir).readlines()\n",
        "sequence = file_contents[1].strip()\n",
        "sequence_array = np.array(list(sequence))"
      ],
      "metadata": {
        "id": "oX32rr_Bq2XH"
      },
      "execution_count": 10,
      "outputs": []
    },
    {
      "cell_type": "markdown",
      "source": [
        "### Numpy examples\n",
        "See the first column of the alignment array"
      ],
      "metadata": {
        "id": "Ol5pOZdOrclb"
      }
    },
    {
      "cell_type": "code",
      "source": [
        "arr_col_1 = arr[:, 0]\n",
        "arr_col_1"
      ],
      "metadata": {
        "colab": {
          "base_uri": "https://localhost:8080/"
        },
        "id": "u0gKXmA6q5h2",
        "outputId": "15386dd2-8976-4cad-c1e8-977115eba1ba"
      },
      "execution_count": 19,
      "outputs": [
        {
          "output_type": "execute_result",
          "data": {
            "text/plain": [
              "array(['A', 'A', 'A', 'A', 'A', 'A', 'A'], dtype='<U1')"
            ]
          },
          "metadata": {},
          "execution_count": 19
        }
      ]
    },
    {
      "cell_type": "markdown",
      "source": [
        "See the third row of the array"
      ],
      "metadata": {
        "id": "t-B0kw8yrinv"
      }
    },
    {
      "cell_type": "code",
      "source": [
        "arr_row_3 = arr[2, :]\n",
        "arr_row_3"
      ],
      "metadata": {
        "colab": {
          "base_uri": "https://localhost:8080/"
        },
        "id": "9rVNh2xjq7Hd",
        "outputId": "1a26be86-4de9-45a6-c2ef-390ee6ecf66a"
      },
      "execution_count": 21,
      "outputs": [
        {
          "output_type": "execute_result",
          "data": {
            "text/plain": [
              "array(['A', 'T', 'T', 'C', 'T', 'A', 'T', 'C', 'T', 'G', 'G', 'G', 'T',\n",
              "       'A', 'C', 'T', 'A', 'T', 'T', 'G', 'G', 'G', 'C', 'T', 'C', 'T',\n",
              "       'T', 'A', 'T', 'T', 'A', 'T', 'C', 'T', 'C', 'T', 'A', 'C', 'T',\n",
              "       'T', 'A', 'C', 'T', 'A', 'T', 'C', 'T', 'T', 'A', 'C', 'T', 'T',\n",
              "       'A', 'C', 'T', 'T', 'A', 'C', 'T', 'T', 'A', 'C', 'G', 'C', 'T',\n",
              "       'A', 'C', 'G', 'T', 'A', 'C', 'T', 'A', 'G', 'C', 'T', 'T', 'A',\n",
              "       'C', 'G', 'T', 'A', 'C', 'T', 'G', 'A', 'C', 'T', 'T', '-', '-',\n",
              "       '-', '-'], dtype='<U1')"
            ]
          },
          "metadata": {},
          "execution_count": 21
        }
      ]
    },
    {
      "cell_type": "markdown",
      "source": [
        "See which cells are equal to \"A\""
      ],
      "metadata": {
        "id": "8FpEpNw7rkcG"
      }
    },
    {
      "cell_type": "code",
      "source": [
        "is_A = arr == \"A\"\n",
        "is_A"
      ],
      "metadata": {
        "colab": {
          "base_uri": "https://localhost:8080/"
        },
        "id": "DZKkRrrzq22E",
        "outputId": "f3a73cc2-90ac-4d18-d87e-da66c4f16a46"
      },
      "execution_count": 23,
      "outputs": [
        {
          "output_type": "execute_result",
          "data": {
            "text/plain": [
              "array([[ True, False, False, False, False,  True, False, False, False,\n",
              "        False, False, False, False, False,  True, False, False,  True,\n",
              "        False, False, False,  True, False, False, False, False, False,\n",
              "        False, False, False, False, False, False,  True, False, False,\n",
              "        False,  True, False, False,  True, False, False, False, False,\n",
              "         True, False, False, False,  True, False, False, False,  True,\n",
              "        False, False, False,  True, False, False, False, False, False,\n",
              "        False,  True, False, False, False,  True, False, False,  True,\n",
              "        False, False, False, False,  True, False, False, False,  True,\n",
              "        False, False, False,  True, False, False, False,  True, False,\n",
              "        False, False, False],\n",
              "       [ True, False, False, False, False,  True, False, False, False,\n",
              "        False, False, False, False, False,  True, False, False,  True,\n",
              "        False, False, False, False, False, False, False, False, False,\n",
              "        False, False, False,  True, False, False, False, False, False,\n",
              "         True, False, False, False,  True, False, False,  True, False,\n",
              "        False, False, False,  True, False, False, False,  True, False,\n",
              "        False, False,  True, False, False, False,  True, False, False,\n",
              "        False, False,  True, False, False, False,  True, False, False,\n",
              "         True, False, False, False, False,  True, False, False, False,\n",
              "         True, False, False, False,  True, False, False, False, False,\n",
              "        False, False, False],\n",
              "       [ True, False, False, False, False,  True, False, False, False,\n",
              "        False, False, False, False,  True, False, False,  True, False,\n",
              "        False, False, False, False, False, False, False, False, False,\n",
              "         True, False, False,  True, False, False, False, False, False,\n",
              "         True, False, False, False,  True, False, False,  True, False,\n",
              "        False, False, False,  True, False, False, False,  True, False,\n",
              "        False, False,  True, False, False, False,  True, False, False,\n",
              "        False, False,  True, False, False, False,  True, False, False,\n",
              "         True, False, False, False, False,  True, False, False, False,\n",
              "         True, False, False, False,  True, False, False, False, False,\n",
              "        False, False, False],\n",
              "       [ True, False, False, False, False,  True, False, False, False,\n",
              "        False, False, False, False,  True, False, False,  True, False,\n",
              "        False, False, False, False, False, False, False, False, False,\n",
              "        False, False, False,  True,  True, False, False, False,  True,\n",
              "        False,  True, False, False, False, False,  True, False, False,\n",
              "         True,  True, False,  True,  True,  True,  True, False, False,\n",
              "        False, False,  True, False, False, False,  True, False, False,\n",
              "        False, False,  True, False, False, False,  True, False, False,\n",
              "         True, False, False, False, False,  True, False, False, False,\n",
              "         True, False, False, False,  True, False, False, False, False,\n",
              "        False, False, False],\n",
              "       [ True, False, False, False, False,  True, False, False, False,\n",
              "        False, False, False, False,  True, False, False,  True, False,\n",
              "        False, False, False, False, False, False, False, False, False,\n",
              "        False, False, False,  True, False, False, False, False, False,\n",
              "         True, False, False, False,  True, False, False,  True, False,\n",
              "        False, False, False,  True, False, False, False,  True, False,\n",
              "        False, False,  True, False, False, False,  True, False, False,\n",
              "        False, False, False, False, False, False, False, False, False,\n",
              "        False, False, False, False, False, False, False, False, False,\n",
              "        False, False, False, False, False, False, False, False,  True,\n",
              "         True,  True,  True],\n",
              "       [ True, False, False, False, False,  True, False, False, False,\n",
              "        False, False, False, False, False, False,  True, False, False,\n",
              "        False, False, False, False, False, False, False, False, False,\n",
              "        False, False, False,  True, False, False, False, False, False,\n",
              "        False, False, False, False, False, False, False, False, False,\n",
              "        False, False, False, False, False, False, False, False, False,\n",
              "        False, False, False, False, False, False, False, False, False,\n",
              "        False, False, False, False, False, False, False, False, False,\n",
              "        False, False, False, False, False, False, False, False, False,\n",
              "        False, False, False, False, False, False, False, False, False,\n",
              "        False, False, False],\n",
              "       [ True, False, False, False, False,  True, False, False, False,\n",
              "        False, False, False, False,  True, False, False,  True, False,\n",
              "        False, False, False, False, False, False, False, False, False,\n",
              "        False, False, False,  True, False, False, False, False, False,\n",
              "         True, False, False, False,  True, False, False,  True, False,\n",
              "        False, False, False,  True, False,  True, False,  True, False,\n",
              "        False, False, False, False, False, False,  True, False, False,\n",
              "        False, False, False, False, False, False, False, False, False,\n",
              "        False, False, False, False, False, False, False, False, False,\n",
              "        False, False, False, False, False, False, False, False,  True,\n",
              "         True,  True,  True]])"
            ]
          },
          "metadata": {},
          "execution_count": 23
        }
      ]
    },
    {
      "cell_type": "markdown",
      "source": [
        "Count the number of \"As\" in the first column\n"
      ],
      "metadata": {
        "id": "08ROB65IrvTC"
      }
    },
    {
      "cell_type": "code",
      "source": [
        "nAs = sum(is_A[:, 0])\n",
        "nAs"
      ],
      "metadata": {
        "colab": {
          "base_uri": "https://localhost:8080/"
        },
        "id": "fRM0mLYQq8zt",
        "outputId": "0b9d8272-7506-4e69-d026-9ddad3b96f89"
      },
      "execution_count": 17,
      "outputs": [
        {
          "output_type": "execute_result",
          "data": {
            "text/plain": [
              "7"
            ]
          },
          "metadata": {},
          "execution_count": 17
        }
      ]
    },
    {
      "cell_type": "markdown",
      "source": [
        "Count the number of \"As\" in all columns"
      ],
      "metadata": {
        "id": "HmWZacJ5r1We"
      }
    },
    {
      "cell_type": "code",
      "source": [
        "\n",
        "nAs_all = sum(arr == \"A\")\n",
        "nAs_all"
      ],
      "metadata": {
        "colab": {
          "base_uri": "https://localhost:8080/"
        },
        "id": "eKmP8kuPq9jX",
        "outputId": "0ea334f6-2335-47fd-ff8a-19514e84064f"
      },
      "execution_count": 28,
      "outputs": [
        {
          "output_type": "execute_result",
          "data": {
            "text/plain": [
              "array([7, 0, 0, 0, 0, 7, 0, 0, 0, 0, 0, 0, 0, 4, 2, 1, 4, 2, 0, 0, 0, 1,\n",
              "       0, 0, 0, 0, 0, 1, 0, 0, 6, 1, 0, 1, 0, 1, 4, 2, 0, 0, 5, 0, 1, 4,\n",
              "       0, 2, 1, 0, 5, 2, 2, 1, 4, 1, 0, 0, 4, 1, 0, 0, 5, 0, 0, 0, 1, 3,\n",
              "       0, 0, 1, 3, 0, 1, 3, 0, 0, 0, 1, 3, 0, 0, 1, 3, 0, 0, 1, 3, 0, 0,\n",
              "       1, 2, 2, 2, 2])"
            ]
          },
          "metadata": {},
          "execution_count": 28
        }
      ]
    },
    {
      "cell_type": "code",
      "source": [
        "plt.figure(figsize=(10, 10))\n",
        "plt.imshow(is_A)"
      ],
      "metadata": {
        "colab": {
          "base_uri": "https://localhost:8080/",
          "height": 137
        },
        "id": "Yo_d93n7r7Dx",
        "outputId": "e51cd510-45f8-45f4-8db0-b83e3e94031b"
      },
      "execution_count": 50,
      "outputs": [
        {
          "output_type": "execute_result",
          "data": {
            "text/plain": [
              "<matplotlib.image.AxesImage at 0x7898d3995330>"
            ]
          },
          "metadata": {},
          "execution_count": 50
        },
        {
          "output_type": "display_data",
          "data": {
            "text/plain": [
              "<Figure size 1000x1000 with 1 Axes>"
            ],
            "image/png": "[encoded data removed]"
          },
          "metadata": {}
        }
      ]
    }
  ]
}