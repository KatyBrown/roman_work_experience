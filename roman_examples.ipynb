{
  "nbformat": 4,
  "nbformat_minor": 0,
  "metadata": {
    "colab": {
      "provenance": [],
      "authorship_tag": "ABX9TyOhcim4my0LPqz9qHsosmAC",
      "include_colab_link": true
    },
    "kernelspec": {
      "name": "python3",
      "display_name": "Python 3"
    },
    "language_info": {
      "name": "python"
    }
  },
  "cells": [
    {
      "cell_type": "markdown",
      "metadata": {
        "id": "view-in-github",
        "colab_type": "text"
      },
      "source": [
        "<a href=\"https://colab.research.google.com/github/KatyBrown/roman_work_experience/blob/main/roman_examples.ipynb\" target=\"_parent\"><img src=\"https://colab.research.google.com/assets/colab-badge.svg\" alt=\"Open In Colab\"/></a>"
      ]
    },
    {
      "cell_type": "markdown",
      "source": [
        "### Setup"
      ],
      "metadata": {
        "id": "221QHMYZrnMu"
      }
    },
    {
      "cell_type": "markdown",
      "source": [
        "Install CIAlign and clone the Git repository with the example data"
      ],
      "metadata": {
        "id": "OuKI2QYKrYje"
      }
    },
    {
      "cell_type": "code",
      "execution_count": 3,
      "metadata": {
        "colab": {
          "base_uri": "https://localhost:8080/"
        },
        "id": "Rd4Cp7Qqp_S9",
        "outputId": "a7360622-d707-4a57-c7d3-3e38abebc52b"
      },
      "outputs": [
        {
          "output_type": "stream",
          "name": "stdout",
          "text": [
            "Collecting CIAlign\n",
            "  Downloading cialign-1.1.0-py3-none-any.whl (61 kB)\n",
            "\u001b[2K     \u001b[90m━━━━━━━━━━━━━━━━━━━━━━━━━━━━━━━━━━━━━━━━\u001b[0m \u001b[32m61.9/61.9 kB\u001b[0m \u001b[31m819.0 kB/s\u001b[0m eta \u001b[36m0:00:00\u001b[0m\n",
            "\u001b[?25hRequirement already satisfied: matplotlib in /usr/local/lib/python3.10/dist-packages (from CIAlign) (3.7.1)\n",
            "Requirement already satisfied: numpy>=1.21.0 in /usr/local/lib/python3.10/dist-packages (from CIAlign) (1.25.2)\n",
            "Collecting ConfigArgParse (from CIAlign)\n",
            "  Downloading ConfigArgParse-1.7-py3-none-any.whl (25 kB)\n",
            "Requirement already satisfied: pillow in /usr/local/lib/python3.10/dist-packages (from CIAlign) (9.4.0)\n",
            "Requirement already satisfied: contourpy>=1.0.1 in /usr/local/lib/python3.10/dist-packages (from matplotlib->CIAlign) (1.2.1)\n",
            "Requirement already satisfied: cycler>=0.10 in /usr/local/lib/python3.10/dist-packages (from matplotlib->CIAlign) (0.12.1)\n",
            "Requirement already satisfied: fonttools>=4.22.0 in /usr/local/lib/python3.10/dist-packages (from matplotlib->CIAlign) (4.51.0)\n",
            "Requirement already satisfied: kiwisolver>=1.0.1 in /usr/local/lib/python3.10/dist-packages (from matplotlib->CIAlign) (1.4.5)\n",
            "Requirement already satisfied: packaging>=20.0 in /usr/local/lib/python3.10/dist-packages (from matplotlib->CIAlign) (24.0)\n",
            "Requirement already satisfied: pyparsing>=2.3.1 in /usr/local/lib/python3.10/dist-packages (from matplotlib->CIAlign) (3.1.2)\n",
            "Requirement already satisfied: python-dateutil>=2.7 in /usr/local/lib/python3.10/dist-packages (from matplotlib->CIAlign) (2.8.2)\n",
            "Requirement already satisfied: six>=1.5 in /usr/local/lib/python3.10/dist-packages (from python-dateutil>=2.7->matplotlib->CIAlign) (1.16.0)\n",
            "Installing collected packages: ConfigArgParse, CIAlign\n",
            "Successfully installed CIAlign-1.1.0 ConfigArgParse-1.7\n"
          ]
        }
      ],
      "source": [
        "%pip install CIAlign"
      ]
    },
    {
      "cell_type": "code",
      "source": [
        "!git clone https://github.com/KatyBrown/roman_work_experience.git"
      ],
      "metadata": {
        "colab": {
          "base_uri": "https://localhost:8080/"
        },
        "id": "WV-uNCadqLZB",
        "outputId": "d37d2863-f2df-42e1-8818-ebf61def8a4d"
      },
      "execution_count": 1,
      "outputs": [
        {
          "output_type": "stream",
          "name": "stdout",
          "text": [
            "Cloning into 'roman_work_experience'...\n",
            "remote: Enumerating objects: 38, done.\u001b[K\n",
            "remote: Counting objects: 100% (38/38), done.\u001b[K\n",
            "remote: Compressing objects: 100% (27/27), done.\u001b[K\n",
            "remote: Total 38 (delta 10), reused 35 (delta 8), pack-reused 0\u001b[K\n",
            "Receiving objects: 100% (38/38), 1.43 MiB | 7.90 MiB/s, done.\n",
            "Resolving deltas: 100% (10/10), done.\n"
          ]
        }
      ]
    },
    {
      "cell_type": "markdown",
      "source": [
        "Import the module files"
      ],
      "metadata": {
        "id": "VYF-C9cFrIsl"
      }
    },
    {
      "cell_type": "code",
      "source": [
        "import CIAlign.utilityFunctions as utilityFunctions\n",
        "import numpy as np\n",
        "import pandas as pd\n",
        "import matplotlib.pyplot as plt\n",
        "%matplotlib inline"
      ],
      "metadata": {
        "id": "1MUOx9hPqeDf"
      },
      "execution_count": 6,
      "outputs": []
    },
    {
      "cell_type": "markdown",
      "source": [
        "### Read Files"
      ],
      "metadata": {
        "id": "QxLJUp6hrqCP"
      }
    },
    {
      "cell_type": "markdown",
      "source": [
        "Set the working directory\n"
      ],
      "metadata": {
        "id": "zMDIM3bmrKrZ"
      }
    },
    {
      "cell_type": "code",
      "source": [
        "mydir = 'roman_work_experience'"
      ],
      "metadata": {
        "id": "VSZYjDqhqzDg"
      },
      "execution_count": 7,
      "outputs": []
    },
    {
      "cell_type": "markdown",
      "source": [
        "Read the sequence alignment into an array and sequence names into a list\n"
      ],
      "metadata": {
        "id": "zp2oqG5PrN6O"
      }
    },
    {
      "cell_type": "code",
      "source": [
        "arr, nams = utilityFunctions.FastaToArray(\n",
        "    \"%s/small/small_alignment.fasta\" % mydir)"
      ],
      "metadata": {
        "id": "aWBjSslxq1Tn"
      },
      "execution_count": 8,
      "outputs": []
    },
    {
      "cell_type": "markdown",
      "source": [
        "Read the consensus sequence and convert it to a list, then an array\n"
      ],
      "metadata": {
        "id": "0VU7b8oerbV3"
      }
    },
    {
      "cell_type": "code",
      "source": [
        "file_contents = open(\"%s/small/small_consensus.fasta\" % mydir).readlines()\n",
        "sequence = file_contents[1].strip()\n",
        "sequence_array = np.array(list(sequence))"
      ],
      "metadata": {
        "id": "oX32rr_Bq2XH"
      },
      "execution_count": 9,
      "outputs": []
    },
    {
      "cell_type": "markdown",
      "source": [
        "### Numpy examples\n",
        "See the first column of the alignment array"
      ],
      "metadata": {
        "id": "Ol5pOZdOrclb"
      }
    },
    {
      "cell_type": "code",
      "source": [
        "arr_col_1 = arr[:, 0]\n",
        "arr_col_1"
      ],
      "metadata": {
        "colab": {
          "base_uri": "https://localhost:8080/"
        },
        "id": "u0gKXmA6q5h2",
        "outputId": "19d1d2b5-0567-429d-9ea4-f93850188868"
      },
      "execution_count": 10,
      "outputs": [
        {
          "output_type": "execute_result",
          "data": {
            "text/plain": [
              "array(['A', 'A', 'A', 'A', 'A', 'A', 'A'], dtype='<U1')"
            ]
          },
          "metadata": {},
          "execution_count": 10
        }
      ]
    },
    {
      "cell_type": "markdown",
      "source": [
        "See the third row of the array"
      ],
      "metadata": {
        "id": "t-B0kw8yrinv"
      }
    },
    {
      "cell_type": "code",
      "source": [
        "arr_row_3 = arr[2, :]\n",
        "arr_row_3"
      ],
      "metadata": {
        "colab": {
          "base_uri": "https://localhost:8080/"
        },
        "id": "9rVNh2xjq7Hd",
        "outputId": "dba8eb57-c847-4928-a549-dc4b49fa4575"
      },
      "execution_count": 11,
      "outputs": [
        {
          "output_type": "execute_result",
          "data": {
            "text/plain": [
              "array(['A', 'T', 'T', 'C', 'T', 'A', 'T', 'C', 'T', 'G', 'G', 'G', 'T',\n",
              "       'A', 'C', 'T', 'A', 'T', 'T', 'G', 'G', 'G', 'C', 'T', 'C', 'T',\n",
              "       'T', 'A', 'T', 'T', 'A', 'T', 'C', 'T', 'C', 'T', 'A', 'C', 'T',\n",
              "       'T', 'A', 'C', 'T', 'A', 'T', 'C', 'T', 'T', 'A', 'C', 'T', 'T',\n",
              "       'A', 'C', 'T', 'T', 'A', 'C', 'T', 'T', 'A', 'C', 'G', 'C', 'T',\n",
              "       'A', 'C', 'G', 'T', 'A', 'C', 'T', 'A', 'G', 'C', 'T', 'T', 'A',\n",
              "       'C', 'G', 'T', 'A', 'C', 'T', 'G', 'A', 'C', 'T', 'T', '-', '-',\n",
              "       '-', '-'], dtype='<U1')"
            ]
          },
          "metadata": {},
          "execution_count": 11
        }
      ]
    },
    {
      "cell_type": "markdown",
      "source": [
        "See which cells are equal to \"A\""
      ],
      "metadata": {
        "id": "8FpEpNw7rkcG"
      }
    },
    {
      "cell_type": "code",
      "source": [
        "is_A = arr == \"A\"\n",
        "is_A"
      ],
      "metadata": {
        "colab": {
          "base_uri": "https://localhost:8080/"
        },
        "id": "DZKkRrrzq22E",
        "outputId": "a42880c4-c717-4af3-ea41-b12624490253"
      },
      "execution_count": 12,
      "outputs": [
        {
          "output_type": "execute_result",
          "data": {
            "text/plain": [
              "array([[ True, False, False, False, False,  True, False, False, False,\n",
              "        False, False, False, False, False,  True, False, False,  True,\n",
              "        False, False, False,  True, False, False, False, False, False,\n",
              "        False, False, False, False, False, False,  True, False, False,\n",
              "        False,  True, False, False,  True, False, False, False, False,\n",
              "         True, False, False, False,  True, False, False, False,  True,\n",
              "        False, False, False,  True, False, False, False, False, False,\n",
              "        False,  True, False, False, False,  True, False, False,  True,\n",
              "        False, False, False, False,  True, False, False, False,  True,\n",
              "        False, False, False,  True, False, False, False,  True, False,\n",
              "        False, False, False],\n",
              "       [ True, False, False, False, False,  True, False, False, False,\n",
              "        False, False, False, False, False,  True, False, False,  True,\n",
              "        False, False, False, False, False, False, False, False, False,\n",
              "        False, False, False,  True, False, False, False, False, False,\n",
              "         True, False, False, False,  True, False, False,  True, False,\n",
              "        False, False, False,  True, False, False, False,  True, False,\n",
              "        False, False,  True, False, False, False,  True, False, False,\n",
              "        False, False,  True, False, False, False,  True, False, False,\n",
              "         True, False, False, False, False,  True, False, False, False,\n",
              "         True, False, False, False,  True, False, False, False, False,\n",
              "        False, False, False],\n",
              "       [ True, False, False, False, False,  True, False, False, False,\n",
              "        False, False, False, False,  True, False, False,  True, False,\n",
              "        False, False, False, False, False, False, False, False, False,\n",
              "         True, False, False,  True, False, False, False, False, False,\n",
              "         True, False, False, False,  True, False, False,  True, False,\n",
              "        False, False, False,  True, False, False, False,  True, False,\n",
              "        False, False,  True, False, False, False,  True, False, False,\n",
              "        False, False,  True, False, False, False,  True, False, False,\n",
              "         True, False, False, False, False,  True, False, False, False,\n",
              "         True, False, False, False,  True, False, False, False, False,\n",
              "        False, False, False],\n",
              "       [ True, False, False, False, False,  True, False, False, False,\n",
              "        False, False, False, False,  True, False, False,  True, False,\n",
              "        False, False, False, False, False, False, False, False, False,\n",
              "        False, False, False,  True,  True, False, False, False,  True,\n",
              "        False,  True, False, False, False, False,  True, False, False,\n",
              "         True,  True, False,  True,  True,  True,  True, False, False,\n",
              "        False, False,  True, False, False, False,  True, False, False,\n",
              "        False, False,  True, False, False, False,  True, False, False,\n",
              "         True, False, False, False, False,  True, False, False, False,\n",
              "         True, False, False, False,  True, False, False, False, False,\n",
              "        False, False, False],\n",
              "       [ True, False, False, False, False,  True, False, False, False,\n",
              "        False, False, False, False,  True, False, False,  True, False,\n",
              "        False, False, False, False, False, False, False, False, False,\n",
              "        False, False, False,  True, False, False, False, False, False,\n",
              "         True, False, False, False,  True, False, False,  True, False,\n",
              "        False, False, False,  True, False, False, False,  True, False,\n",
              "        False, False,  True, False, False, False,  True, False, False,\n",
              "        False, False, False, False, False, False, False, False, False,\n",
              "        False, False, False, False, False, False, False, False, False,\n",
              "        False, False, False, False, False, False, False, False,  True,\n",
              "         True,  True,  True],\n",
              "       [ True, False, False, False, False,  True, False, False, False,\n",
              "        False, False, False, False, False, False,  True, False, False,\n",
              "        False, False, False, False, False, False, False, False, False,\n",
              "        False, False, False,  True, False, False, False, False, False,\n",
              "        False, False, False, False, False, False, False, False, False,\n",
              "        False, False, False, False, False, False, False, False, False,\n",
              "        False, False, False, False, False, False, False, False, False,\n",
              "        False, False, False, False, False, False, False, False, False,\n",
              "        False, False, False, False, False, False, False, False, False,\n",
              "        False, False, False, False, False, False, False, False, False,\n",
              "        False, False, False],\n",
              "       [ True, False, False, False, False,  True, False, False, False,\n",
              "        False, False, False, False,  True, False, False,  True, False,\n",
              "        False, False, False, False, False, False, False, False, False,\n",
              "        False, False, False,  True, False, False, False, False, False,\n",
              "         True, False, False, False,  True, False, False,  True, False,\n",
              "        False, False, False,  True, False,  True, False,  True, False,\n",
              "        False, False, False, False, False, False,  True, False, False,\n",
              "        False, False, False, False, False, False, False, False, False,\n",
              "        False, False, False, False, False, False, False, False, False,\n",
              "        False, False, False, False, False, False, False, False,  True,\n",
              "         True,  True,  True]])"
            ]
          },
          "metadata": {},
          "execution_count": 12
        }
      ]
    },
    {
      "cell_type": "markdown",
      "source": [
        "Count the number of \"As\" in the first column\n"
      ],
      "metadata": {
        "id": "08ROB65IrvTC"
      }
    },
    {
      "cell_type": "code",
      "source": [
        "nAs = sum(is_A[:, 0])\n",
        "nAs"
      ],
      "metadata": {
        "colab": {
          "base_uri": "https://localhost:8080/"
        },
        "id": "fRM0mLYQq8zt",
        "outputId": "956e816f-3416-4e6c-9a77-2e942e4828bd"
      },
      "execution_count": 13,
      "outputs": [
        {
          "output_type": "execute_result",
          "data": {
            "text/plain": [
              "7"
            ]
          },
          "metadata": {},
          "execution_count": 13
        }
      ]
    },
    {
      "cell_type": "markdown",
      "source": [
        "Count the number of \"As\" in all columns"
      ],
      "metadata": {
        "id": "HmWZacJ5r1We"
      }
    },
    {
      "cell_type": "code",
      "source": [
        "nAs_all = sum(arr == \"A\")\n",
        "nAs_all"
      ],
      "metadata": {
        "colab": {
          "base_uri": "https://localhost:8080/"
        },
        "id": "eKmP8kuPq9jX",
        "outputId": "b0e3bf1a-1879-465d-852f-0e13fe415cf1"
      },
      "execution_count": 14,
      "outputs": [
        {
          "output_type": "execute_result",
          "data": {
            "text/plain": [
              "array([7, 0, 0, 0, 0, 7, 0, 0, 0, 0, 0, 0, 0, 4, 2, 1, 4, 2, 0, 0, 0, 1,\n",
              "       0, 0, 0, 0, 0, 1, 0, 0, 6, 1, 0, 1, 0, 1, 4, 2, 0, 0, 5, 0, 1, 4,\n",
              "       0, 2, 1, 0, 5, 2, 2, 1, 4, 1, 0, 0, 4, 1, 0, 0, 5, 0, 0, 0, 1, 3,\n",
              "       0, 0, 1, 3, 0, 1, 3, 0, 0, 0, 1, 3, 0, 0, 1, 3, 0, 0, 1, 3, 0, 0,\n",
              "       1, 2, 2, 2, 2])"
            ]
          },
          "metadata": {},
          "execution_count": 14
        }
      ]
    },
    {
      "cell_type": "markdown",
      "source": [
        "### For later"
      ],
      "metadata": {
        "id": "C4ueh8ts6cTX"
      }
    },
    {
      "cell_type": "markdown",
      "source": [
        "Plot the number of As in each column"
      ],
      "metadata": {
        "id": "gRK2jWRqzqeZ"
      }
    },
    {
      "cell_type": "code",
      "source": [
        "plt.plot(nAs_all)"
      ],
      "metadata": {
        "colab": {
          "base_uri": "https://localhost:8080/",
          "height": 447
        },
        "id": "bVv6UTqXzhue",
        "outputId": "afd481f3-8477-406d-89dc-276713e4cac9"
      },
      "execution_count": 15,
      "outputs": [
        {
          "output_type": "execute_result",
          "data": {
            "text/plain": [
              "[<matplotlib.lines.Line2D at 0x7df9fe46add0>]"
            ]
          },
          "metadata": {},
          "execution_count": 15
        },
        {
          "output_type": "display_data",
          "data": {
            "text/plain": [
              "<Figure size 640x480 with 1 Axes>"
            ],
            "image/png": "[encoded data removed]"
          },
          "metadata": {}
        }
      ]
    },
    {
      "cell_type": "markdown",
      "source": [
        "Plot the True / False values from the is_A matrix"
      ],
      "metadata": {
        "id": "ZDNFQupjzuIS"
      }
    },
    {
      "cell_type": "code",
      "source": [
        "plt.figure(figsize=(10, 10))\n",
        "plt.imshow(is_A)"
      ],
      "metadata": {
        "colab": {
          "base_uri": "https://localhost:8080/",
          "height": 137
        },
        "id": "Yo_d93n7r7Dx",
        "outputId": "b8d74af9-5edd-4646-e173-2af52b31fade"
      },
      "execution_count": 16,
      "outputs": [
        {
          "output_type": "execute_result",
          "data": {
            "text/plain": [
              "<matplotlib.image.AxesImage at 0x7df9fe0ba4a0>"
            ]
          },
          "metadata": {},
          "execution_count": 16
        },
        {
          "output_type": "display_data",
          "data": {
            "text/plain": [
              "<Figure size 1000x1000 with 1 Axes>"
            ],
            "image/png": "[encoded data removed]"
          },
          "metadata": {}
        }
      ]
    },
    {
      "cell_type": "markdown",
      "source": [
        "Read a similarity matrix and find the similarity score between 'A' and 'G"
      ],
      "metadata": {
        "id": "07NnYCKm6eyP"
      }
    },
    {
      "cell_type": "code",
      "source": [
        "mat = pd.read_csv(\"%s/similarity_matrices/NUC.4.4\" % mydir, comment=\"#\", sep=\"\\s+\")"
      ],
      "metadata": {
        "id": "By-PTNvXyIzN"
      },
      "execution_count": 29,
      "outputs": []
    },
    {
      "cell_type": "code",
      "source": [
        "mat.loc['A', 'G']"
      ],
      "metadata": {
        "colab": {
          "base_uri": "https://localhost:8080/"
        },
        "id": "c6FN_qmqz4Wt",
        "outputId": "21549e39-0a59-46bd-9992-c59fbbace164"
      },
      "execution_count": 32,
      "outputs": [
        {
          "output_type": "execute_result",
          "data": {
            "text/plain": [
              "-4"
            ]
          },
          "metadata": {},
          "execution_count": 32
        }
      ]
    },
    {
      "cell_type": "code",
      "source": [],
      "metadata": {
        "id": "2yp6PoMg0Cim"
      },
      "execution_count": null,
      "outputs": []
    }
  ]
}